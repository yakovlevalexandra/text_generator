{
 "cells": [
  {
   "cell_type": "markdown",
   "metadata": {},
   "source": [
    "Моя программа генератора текста состоит из двух частей: \n",
    "1) обучение модели и сохранение получившегося словаря в заданный файл,\n",
    "2) генерация текста на основе ранее созданной и сохраненной базы, с использованием N-грамной модели.\n",
    "\n",
    "Функция read_data_from_folder() считывает тексты формата .txt из заданной папочки и возвращает их.  "
   ]
  },
  {
   "cell_type": "code",
   "execution_count": null,
   "metadata": {},
   "outputs": [],
   "source": [
    "import os\n",
    "import pickle\n",
    "import random\n",
    "\n",
    "\n",
    "def read_data_from_folder(folder_path):\n",
    "    all_text = ''\n",
    "    for file in os.listdir(path=folder_path):\n",
    "        if file.endswith('.txt'):\n",
    "            with open(file, encoding='ANSI') as f:\n",
    "                my_text = f.read()\n",
    "            all_text += my_text\n",
    "    return all_text"
   ]
  },
  {
   "cell_type": "markdown",
   "metadata": {},
   "source": [
    "Функция make_dict(data) создает словарь биграмов. Ключами будут префиксы, значениями - словари, в которых ключи -- всевозможные\n",
    "постфиксы после заданного префикса, значения -- кол-во одинаковых постфиксов после данного префикса.\n",
    "Для слов в конце предложения ('.', '?', '!', '...') постфикс -- 'Ending'. Для слов в начале предложения (следуют после '.', '?', '!', '...') префикс -- 'Beginning'."
   ]
  },
  {
   "cell_type": "code",
   "execution_count": null,
   "metadata": {},
   "outputs": [],
   "source": [
    "def make_dict(data):  \n",
    "    dict_of_words = {} \n",
    "    words = data.split(' ')\n",
    "    index = 2    # Первоначальное значение index -- это N из определения N-грамов.\n",
    "\n",
    "    dict_of_words['Beginning'] = {}    # К ключу 'Beginning' добавляем самое первое слово из всех текстов.\n",
    "    dict_of_words['Beginning'].update({words[0]: 1})\n",
    " \n",
    "    for word in words[2:]:\n",
    "        word_low = word.lower()\n",
    "        key = ' '.join(words[index - 1: index]).lower()\n",
    "        if key in dict_of_words:\n",
    "            if key.endswith('.') or key.endswith('!') or key.endswith('?') or key.endswith('...'):\n",
    "                if 'Ending' in dict_of_words[key]:\n",
    "                    dict_of_words[key]['Ending'] += 1\n",
    "                else:\n",
    "                    dict_of_words[key].update({'Ending': 1})\n",
    "\n",
    "                if word in dict_of_words['Beginning']:\n",
    "                    dict_of_words['Beginning'][word] += 1\n",
    "                else:\n",
    "                    dict_of_words['Beginning'].update({word: 1})\n",
    "            else:\n",
    "                if word_low in dict_of_words[key]:\n",
    "                    dict_of_words[key][word_low] += 1\n",
    "                else:\n",
    "                    dict_of_words[key].update({word_low: 1})\n",
    "        else:\n",
    "            if key.endswith('.') or key.endswith('!') or key.endswith('?') or key.endswith('...'):\n",
    "                dict_of_words[key] = {}\n",
    "                dict_of_words[key].update({'Ending': 1})\n",
    "            else:\n",
    "                dict_of_words[key] = {}\n",
    "                dict_of_words[key].update({word_low: 1})\n",
    "        index += 1\n",
    "\n",
    "    return dict_of_words"
   ]
  },
  {
   "cell_type": "markdown",
   "metadata": {},
   "source": [
    "Дальше функция download_dict(my_dict, file_name) позволяет сохранить словарь биграмов в заданный файл."
   ]
  },
  {
   "cell_type": "code",
   "execution_count": null,
   "metadata": {},
   "outputs": [],
   "source": [
    "def download_dict(my_dict, file_name):        \n",
    "    with open(file_name, 'wb') as out:\n",
    "        pickle.dump(my_dict, out)"
   ]
  },
  {
   "cell_type": "markdown",
   "metadata": {},
   "source": [
    "Переходим ко второй части программы -- генерации текста с применением базы, полученной в первой части программы.\n",
    "\n",
    "Сначала функция dictionary(file_name) загружает сохраненный словарь биграмов из файла."
   ]
  },
  {
   "cell_type": "code",
   "execution_count": null,
   "metadata": {},
   "outputs": [],
   "source": [
    "def dictionary(file_name):\n",
    "    with open(file_name, 'rb') as inp:\n",
    "        loaded_dict = pickle.load(inp)\n",
    "    return loaded_dict"
   ]
  },
  {
   "cell_type": "markdown",
   "metadata": {},
   "source": [
    "Затем функция make_text(my_dict, text_length) генерирует текст заданной длины на основе данного ей словаря биграмов. \n",
    "Для генерации первого слова находим в словаре ключ 'Beginning', проходимся по словарю, который лежит в его значении, и вытаскиваем отдельно постфиксы и отдельно соответствующие им кол-ва повторений. Самое первое слово в генерируемом тексте -- это рандомный выбор (с весами!) из списка постфиксов к префиксу 'Beginning'.\n",
    "Далее в цикле идет генерация остальных слов: берем префикс, рандомно с весами выбираем постфикс, двигаемся дальше... (ура, цепи Маркова пригодились)\n",
    "Важный момент! Если на какой-то префикс рандомайзер выдал 'Ending', то мы этот 'Ending' в текст не включаем, а ищем постфикс для 'Beginning'.\n",
    "\n",
    "Если вдруг (в моей программе такого получаться не должно, но перестрахуемся) в словаре не был найден ключ, то функция просто возвращает нам все то, что успело сгенерироваться до этого момента."
   ]
  },
  {
   "cell_type": "code",
   "execution_count": null,
   "metadata": {},
   "outputs": [],
   "source": [
    "def make_text(my_dict, text_length):\n",
    "    my_values = []\n",
    "    my_weights = []\n",
    "    for k, v in my_dict['Beginning'].items():\n",
    "        my_values.append(k)\n",
    "        my_weights.append(v)\n",
    "    first_word = random.choices(my_values, weights=my_weights) \n",
    "    text = ''.join(first_word) + ' '\n",
    "    prefix = ''.join(first_word)\n",
    "\n",
    "    for i in range(text_length):\n",
    "        try:\n",
    "            my_values = []\n",
    "            my_weights = []\n",
    "            if prefix == 'Beginning':\n",
    "                for k, v in my_dict['Beginning'].items():\n",
    "                    my_values.append(k)\n",
    "                    my_weights.append(v)\n",
    "            else:\n",
    "                for k, v in my_dict[prefix.lower()].items():\n",
    "                    my_values.append(k)\n",
    "                    my_weights.append(v)\n",
    "            new_word = ''.join(random.choices(my_values, weights=my_weights))\n",
    "            if new_word == 'Ending':\n",
    "                prefix = 'Beginning'\n",
    "            else:\n",
    "                text += new_word + ' '\n",
    "                prefix = new_word\n",
    "\n",
    "        except KeyError:\n",
    "            return text\n",
    "        \n",
    "    return text"
   ]
  },
  {
   "cell_type": "markdown",
   "metadata": {},
   "source": [
    "Все, что осталось, -- запустить функции с нужными аргументами и наслаждаться. :)"
   ]
  },
  {
   "cell_type": "code",
   "execution_count": null,
   "metadata": {},
   "outputs": [],
   "source": [
    "my_dictionary = make_dict(read_data_from_folder('C:\\Александра\\Прога\\генератор текстов\\тексты'))\n",
    "download_dict(my_dictionary, 'C:\\Александра\\Прога\\генератор текстов\\dictionary.txt')\n",
    "print(make_text(dictionary('C:\\Александра\\Прога\\генератор текстов\\dictionary.txt'), 1000))"
   ]
  },
  {
   "cell_type": "markdown",
   "metadata": {},
   "source": [
    "Тексты, использованные для обучения модели:\n",
    "Д.Дэфо \"Робинзон Крузо\"\n",
    "Дойль Артур Конан \"Шерлок Холмс\"\n",
    "М.Митчелл \"Унесенный ветром\"\n",
    "Э.Юдковски \"Гарри Поттер и методы рационального мышления\"\n",
    "Аристотель \"Метафизика\"\n",
    "Дюма \"Три мушкетера\"\n",
    "Гиляровский \"Москва и Москвичи\"\n",
    "Радищев \"Путешествие из Петербурга в Москву\"\n",
    "Л.Н.Толстой \"Анна Каренина\"\n",
    "Дж.Лукас \"Звездные войны\"\n",
    "Дж.Остин \"Гордость и предубеждение\"\n",
    "А.П.Чехов Рассказы\n",
    "Гегель \"Наука логики\"\n",
    "Тургенев \"Отцы и дети\"\n",
    "К.Льюис \"Хроники Нарнии\"\n",
    "Р.Фейнман \"Вы, конечно, шутите, мистер Фейнман\""
   ]
  }
 ],
 "metadata": {
  "kernelspec": {
   "display_name": "Python 3",
   "language": "python",
   "name": "python3"
  },
  "language_info": {
   "codemirror_mode": {
    "name": "ipython",
    "version": 3
   },
   "file_extension": ".py",
   "mimetype": "text/x-python",
   "name": "python",
   "nbconvert_exporter": "python",
   "pygments_lexer": "ipython3",
   "version": "3.6.5"
  }
 },
 "nbformat": 4,
 "nbformat_minor": 2
}
